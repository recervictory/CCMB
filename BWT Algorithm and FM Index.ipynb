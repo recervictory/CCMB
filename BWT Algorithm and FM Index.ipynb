{
  "cells": [
    {
      "cell_type": "markdown",
      "metadata": {
        "id": "view-in-github",
        "colab_type": "text"
      },
      "source": [
        "<a href=\"https://colab.research.google.com/github/recervictory/CCMB/blob/master/BWT%20Algorithm%20and%20FM%20Index.ipynb\" target=\"_parent\"><img src=\"https://colab.research.google.com/assets/colab-badge.svg\" alt=\"Open In Colab\"/></a>"
      ]
    },
    {
      "cell_type": "markdown",
      "metadata": {
        "id": "MImXFGdP6fym"
      },
      "source": [
        "# Burrows-Wheeler Transform and FM Index\n",
        "by Ben Langmead, Department of Computer Science, JHU"
      ]
    },
    {
      "cell_type": "markdown",
      "metadata": {
        "id": "peXaDPnA6fyo"
      },
      "source": [
        "## 1. Burrows-Wheeler Transform"
      ]
    },
    {
      "cell_type": "markdown",
      "metadata": {
        "id": "UXFk_ikC6fyp"
      },
      "source": [
        "The Burrows-Wheeler Transform (BWT) is a way of permuting the characters of a string T into\n",
        "another string BW T(T). This permutation is reversible; one procedure exists for turning T into\n",
        "BW T(T) and another exists for turning BW T(T) back into T. The transformation was originally\n",
        "discovered by David Wheeler in 1983, and was published by Michael Burrows and David Wheeler\n",
        "in 1994 [1].\n",
        "The BWT has two main applications: compression and indexing. We will discuss both. First\n",
        "we discuss the transformation from T to BW T(T)"
      ]
    },
    {
      "cell_type": "markdown",
      "metadata": {
        "id": "VTKFqgRv6fyp"
      },
      "source": [
        "### 1.1 BWT via the BWM"
      ]
    },
    {
      "cell_type": "markdown",
      "metadata": {
        "id": "1o2akZFC6fyp"
      },
      "source": [
        "T denotes the string we would like to transform, and m = |T| (the length of T). We assume that T\n",
        "ends with a terminator character, denoted $. We define $ to be a character that does not appear\n",
        "elsewhere in T, and which is lexicographically prior to all other characters. In the case of DNA\n",
        "strings, for example, the alphabet order with $ might be $ < A < C < G < T.\n",
        "Take T = abaaba$. First, we write down the rotations of T: the distinct strings we can make\n",
        "from T by repeatedly taking a character from one end and sticking it on the other:\n",
        "```\n",
        "$ a b a a b a\n",
        "a $ a b a a b\n",
        "b a $ a b a a\n",
        "a b a $ a b a\n",
        "a a b a $ a b\n",
        "b a a b a $ a\n",
        "a b a a b a $\n",
        "```\n",
        "\n",
        "By writing them stacked vertically, we’ve created an m × m matrix. Now we sort the rows of\n",
        "the matrix lexicographically (i.e. alphabetically)\n",
        "\n",
        "```\n",
        "$ a b a a b a\n",
        "a $ a b a a b\n",
        "a a b a $ a b\n",
        "a b a $ a b a\n",
        "a b a a b a $\n",
        "b a $ a b a a\n",
        "b a a b a $ a\n",
        "```"
      ]
    },
    {
      "cell_type": "markdown",
      "metadata": {
        "id": "G7Hl0qkP6fy0"
      },
      "source": [
        "This is the Burrows-Wheeler Matrix (BWM(T)). The final column of BWM(T), read from\n",
        "top to bottom, is BW T(T). So for T = abaaba$, BW T(T) = abba$aa."
      ]
    },
    {
      "cell_type": "markdown",
      "metadata": {
        "id": "hBCClFay6fy1"
      },
      "source": [
        "### 1.2 BWT via the suffix array"
      ]
    },
    {
      "cell_type": "markdown",
      "metadata": {
        "id": "0zXLh5006fy1"
      },
      "source": [
        "The Burrows-Wheeler Matrix seems to be related to the suffix array: to make a suffix array of T,\n",
        "SA(T), we sort T’s suffixes, and to make BWM(T), we sort T’s rotations. The relationship is\n",
        "clearer when we write them side by side:"
      ]
    },
    {
      "cell_type": "markdown",
      "metadata": {
        "id": "gakeFCeV6fy1"
      },
      "source": [
        "```\n",
        "BWM:        SA: Suffixes given by SA:\n",
        "$abaaba     6   $\n",
        "a$abaab     5   a$\n",
        "aaba$ab     2   aaba$\n",
        "aba$aba     3   aba$\n",
        "abaaba$     0   abaaba$\n",
        "ba$abaa     4   ba$\n",
        "baaba$a     1   baaba$\n",
        "```"
      ]
    },
    {
      "cell_type": "markdown",
      "metadata": {
        "id": "2snEFZqY6fy1"
      },
      "source": [
        "They correspond to the same ordering. Look at, for example, where the $s appear in each row\n",
        "of the comparison. So another way of defining BW T(T) is via the suffix array SA(T). Let BW T[i]\n",
        "denote the character at 0-based offset i in BW T(T) and let SA[i] denote the suffix at 0-based offset\n",
        "i in SA(T).\n",
        "\n",
        "```\n",
        "            { T[SA[i] − 1]  if SA[[i] > 0\n",
        "BWT[i] =    { $             if SA = 0           \n",
        "            \n",
        "```"
      ]
    },
    {
      "cell_type": "code",
      "execution_count": null,
      "metadata": {
        "id": "7H0P0SXp6fy2"
      },
      "outputs": [],
      "source": [
        "def suffixArray(s):\n",
        "    \"\"\" Given T return suffix array SA(T). We use Python’s sorted\n",
        "    function here for simplicity, but we can do better. \"\"\"\n",
        "    # Empty suffix ’’ plays role of $.\n",
        "    satups = sorted([(s[i:], i) for i in range(0, len(s)+1)])\n",
        "    # Extract and return just the offsets\n",
        "    return map(lambda x: x[1], satups)"
      ]
    },
    {
      "cell_type": "code",
      "execution_count": null,
      "metadata": {
        "id": "7QtxkvFm6fy3"
      },
      "outputs": [],
      "source": [
        "def bwt(t):\n",
        "    \"\"\" Given T, returns BWT(T), by way of the suffix array. \"\"\"\n",
        "    bw = []\n",
        "    for si in suffixArray(t):\n",
        "        if si == 0:\n",
        "            bw.append('$')\n",
        "        else:\n",
        "            bw.append(t[si-1])\n",
        "    return ''.join(bw) # return string-ized version of list bw"
      ]
    },
    {
      "cell_type": "markdown",
      "metadata": {
        "id": "XzD6ENHZ6fy3"
      },
      "source": [
        "### 1.3 Burrows-Wheeler Transform in compression"
      ]
    },
    {
      "cell_type": "markdown",
      "metadata": {
        "id": "bbxgZsw_6fy3"
      },
      "source": [
        "How is the Burrows-Wheeler Transform useful for compression? First, it’s reversible. Transformations used in compression must be reversible to allow both compression and decompression.\n",
        "Second, characters with similar right-contexts in T tend to come togehter in BW T(T). This can,\n",
        "for instance, bring several occurrences of the same character together in a tight bunch. This is hard\n",
        "to see in small examples; in the following example, this bunching is more obvious:"
      ]
    },
    {
      "cell_type": "code",
      "execution_count": null,
      "metadata": {
        "id": "H6pXu8t46fy4",
        "outputId": "d0b81fed-b67e-4d9f-d7a3-84fad43cbdc7"
      },
      "outputs": [
        {
          "data": {
            "text/plain": [
              "'wwwwodedd   nnnr ooooaaa nttttmmmmmrrrrorrrroooo   $oooo'"
            ]
          },
          "execution_count": 9,
          "metadata": {},
          "output_type": "execute_result"
        }
      ],
      "source": [
        "bwt(\"tomorrow and tomorrow and tomorrow and no more tomorrow\")"
      ]
    },
    {
      "cell_type": "markdown",
      "metadata": {
        "id": "t5ePGV9L6fy4"
      },
      "source": [
        "This makes BW T(T) more compressible. For example, we could take BW T(T) and shrink it\n",
        "(reversibly) with run-length encoding (RLE). Software tools for compression and decompression\n",
        "employ various methods to shrink BW T(T), including move-to-front transforms, run-length encoding, Huffman coding, and arithmetic coding. The popular bzip2 compression tool [3] uses these\n",
        "and other methods."
      ]
    },
    {
      "cell_type": "markdown",
      "metadata": {
        "id": "RYX2w7SU6fy4"
      },
      "source": [
        "### 1.4 Reversing the Burrows-Wheeler Transform with the LF Mapping\n",
        "\n",
        "We said the BWT is reversible, but it’s far from obvious at first glance how to reverse it. Recall that\n",
        "BW T(abaaba$) = abba$aa. It seems at first glance that information about which a in BW T(T)\n",
        "corresponds to which a in T has been lost.\n",
        "But the BWT has an important property called the LF Mapping. Consider again the BWM for\n",
        "T = abaaba$:\n",
        "\n",
        "```\n",
        "$ a b a a b a\n",
        "a $ a b a a b\n",
        "a a b a $ a b\n",
        "a b a $ a b a\n",
        "a b a a b a $\n",
        "b a $ a b a a\n",
        "b a a b a $ a\n",
        "```"
      ]
    },
    {
      "cell_type": "markdown",
      "metadata": {
        "id": "d0Y5mNMo6fy5"
      },
      "source": [
        "We re-write T, this time giving each character (except $) a subscript: `T` = `a0b0a1a2b1a3$`. The\n",
        "subscript equals the number of times that character occurs previously in T. The first occurrence\n",
        "of a becomes a0, the second occurrnce of c becomes c1, etc. We call the subscript the character’s\n",
        "\\rank.\" We don’t rank $ since there’s only one.\n",
        "Now we re-write the BWM including the ranks. Ranks don’t affect lexicographical order. E.g.\n",
        "a0 and a999 are equal as far as the ordering of the rows of BWM(T) is concerned.\n",
        "\n",
        "```\n",
        "$ a0 b0 a1 a2 b1 a3\n",
        "a3 $ a0 b0 a1 a2 b1\n",
        "a1 a2 b1 a3 $ a0 b0\n",
        "a2 b1 a3 $ a0 b0 a1\n",
        "a0 b0 a1 a2 b1 a3 $\n",
        "b1 a3 $ a0 b0 a1 a2\n",
        "b0 a1 a2 b1 a3 $ a0\n",
        "```"
      ]
    },
    {
      "cell_type": "markdown",
      "metadata": {
        "id": "KGiBJ5z46fy5"
      },
      "source": [
        "The LF Mapping states: the ith occurrence of a character c in the last column has the same\n",
        "rank as the ith occurrence of c in the first column. E.g. look at the as in the last column above,\n",
        "starting at the top. They have ranks 3, 1, 2 and 0 in that order. Now look at the ranks of the a in\n",
        "the first column above; they have the same order: 3, 1, 2, 0. Same for the bs.\n",
        "\n",
        "Why does this property hold? Let M be BWM(T) for some T. Let M0 be the matrix obtained\n",
        "by rotating all the rows of M to the right by one position. The first column of M0 equals the last\n",
        "column of M.\n",
        "\n",
        "Pick any character c and compare the ranks of the cs in the first column of M and the ranks of\n",
        "the cs in the first column of M0. The ranks appear in the same order because the sort treats those\n",
        "rows identically; in M the rows are sorted starting at the first position, and in M0 the rows are tied\n",
        "with respect to their first position and sorted starting at the second position. Because of this, and\n",
        "because the first column of M0 equals the last column of M, the LF Mapping property follows.\n",
        "\n",
        "Now let’s see how to reverse the BWT. First, let’s re-rank the characters. Before we ranked\n",
        "them according to how many times the same character occurred previously in T. Call this the\n",
        "T-ranking. Now we re-rank according to how many times the same character occurred previously\n",
        "in BW T(T). Call this the B-ranking. Here is BW T(T) with B-ranks: a0b0b1a1$a2a3.\n",
        "\n",
        "How are ranks represented? Let’s define an array rank parallel to BW T(T) that stores the\n",
        "rank of each character. Here is an illustation of the first and last columns of BWM(T), along with\n",
        "rank.\n",
        "\n",
        "```\n",
        "F L rank\n",
        "$ a  0\n",
        "a b  0\n",
        "a b  1\n",
        "a a  1\n",
        "a $  0\n",
        "b a  2\n",
        "b a  3\n",
        "```\n",
        "\n",
        "\n",
        "Informally, to recover T from BW T(T): start in the first row, which must have `$` in the first\n",
        "column. Rows are rotations of T, so the last column of the first row contains the character to the\n",
        "left of `$` in T: a in this case. We know from the rank array that this is the a of rank 0: a0. Now\n",
        "how to recover the character to the left of a0? We can do this if we know which row begins with\n",
        "a0. But the LF Mapping tells us this. Because a0 has rank 0, it must correspond to the first a in\n",
        "the first column, i.e. the a in the second row. So we advance to the second row. Now we look in\n",
        "the last column and rank array and see that b0 precedes a0. b0 corresponds to the first b in the\n",
        "first column, so we advance to the sixth row. We proceed in this way until we reach the row with\n",
        "`$` in the last column. In this example, we would visit the rows in this order, assuming the first row\n",
        "has index 0: (0, 1, 5, 3, 2, 6, 4), and we successfully recreate the original string from right to left:\n",
        "`a3b1a1a2b0a0$`"
      ]
    },
    {
      "cell_type": "code",
      "execution_count": null,
      "metadata": {
        "id": "Koyju0C_6fy5"
      },
      "outputs": [],
      "source": [
        "def rankBwt(bw):\n",
        "    \"\"\" Given BWT string bw, returns a parallel list of B-ranks. Also\n",
        "    returns tots, a mapping from characters to # times the\n",
        "    character appears in BWT. \"\"\"\n",
        "    tots = dict()\n",
        "    ranks = []\n",
        "    for c in bw:\n",
        "        if c not in tots:\n",
        "            tots[c] = 0\n",
        "        ranks.append(tots[c])\n",
        "        tots[c] += 1\n",
        "    return ranks, tots\n",
        "\n",
        "def firstCol(tots):\n",
        "    \"\"\" Return a map from characters to the range of cells in the first\n",
        "    column containing the character. \"\"\"\n",
        "    first = {}\n",
        "    totc = 0\n",
        "    for c, count in sorted(tots.items()):\n",
        "        first[c] = (totc, totc + count)\n",
        "        totc += count\n",
        "    return first\n",
        "\n",
        "def reverseBwt(bw):\n",
        "    \"\"\" Make T from BWT(T) \"\"\"\n",
        "    ranks, tots = rankBwt(bw)\n",
        "    #print(ranks, tots)\n",
        "    first = firstCol(tots)\n",
        "    print(first)\n",
        "    rowi = 0\n",
        "    t = \"$\"\n",
        "    while bw[rowi] != '$':\n",
        "        c = bw[rowi]\n",
        "        t = c + t\n",
        "        rowi = first[c][0] + ranks[rowi]\n",
        "    return t"
      ]
    },
    {
      "cell_type": "code",
      "execution_count": null,
      "metadata": {
        "id": "DPryak0h6fy5",
        "outputId": "00b7a7e1-575a-4eea-e379-68ba244cb938"
      },
      "outputs": [
        {
          "data": {
            "text/plain": [
              "'w$wwdd__nnoooaattTmmmrrrrrrooo__ooo'"
            ]
          },
          "execution_count": 15,
          "metadata": {},
          "output_type": "execute_result"
        }
      ],
      "source": [
        "bw = bwt(\"Tomorrow_and_tomorrow_and_tomorrow\")\n",
        "bw"
      ]
    },
    {
      "cell_type": "code",
      "execution_count": null,
      "metadata": {
        "id": "eOfFkFpc6fy6",
        "outputId": "ecf017dd-1df8-4400-b571-bf60a472e0b3"
      },
      "outputs": [
        {
          "name": "stdout",
          "output_type": "stream",
          "text": [
            "{'$': (0, 1), 'T': (1, 2), '_': (2, 6), 'a': (6, 8), 'd': (8, 10), 'm': (10, 13), 'n': (13, 15), 'o': (15, 24), 'r': (24, 30), 't': (30, 32), 'w': (32, 35)}\n"
          ]
        },
        {
          "data": {
            "text/plain": [
              "'Tomorrow_and_tomorrow_and_tomorrow$'"
            ]
          },
          "execution_count": 20,
          "metadata": {},
          "output_type": "execute_result"
        }
      ],
      "source": [
        "reverseBwt(bw)"
      ]
    },
    {
      "cell_type": "markdown",
      "metadata": {
        "id": "yMK2rtcV6fy6"
      },
      "source": [
        "# 2. FM Index\n",
        "\n",
        "In 2000, six years after the BWT was published, Paolo Ferragina and Giovanni Manzini published\n",
        "a paper [2] describing how the BWT, together with some small auxilliary data structures, can be\n",
        "used as a space-efficient index of T. It generally uses less than half the space required to store m integers. They named it the FM Index. Just as the LF Mapping was the key to understanding how\n",
        "the BWT is reversible, it’s also the key to how it can be used as an index.\n",
        "Let’s start by considering just the first column (F) and last column (L) of the BWM, as well\n",
        "as the rank array.\n",
        "\n",
        "```\n",
        "F L rank\n",
        "$ a 0\n",
        "a b 0\n",
        "a b 1\n",
        "a a 1\n",
        "a $ 0\n",
        "b a 2\n",
        "b a 3\n",
        "```"
      ]
    },
    {
      "cell_type": "markdown",
      "metadata": {
        "id": "vruckuyq6fy6"
      },
      "source": [
        "## 3 Searching\n",
        "Say we are searching for occurrences of a string P = aba. Like the suffix array, the BWM is sorted.\n",
        "This implies that any rows having P as a prefix will be consecutive.\n",
        "\n",
        "We proceed first by finding the rows beginning with the shortest proper suffix of P: a in this\n",
        "case. The first column is part of our index, so this is trivial. These are the rows in the 0-based\n",
        "range [1, 5). Let’s visualize this in the context of the whole matrix:\n",
        "```\n",
        "F           L  rank\n",
        "$ a b a a b a   0\n",
        "a $ a b a a b   0 *****\n",
        "a a b a $ a b   1 *****\n",
        "a b a $ a b a   1 *****\n",
        "a b a a b a $   0 *****\n",
        "b a $ a b a a   2\n",
        "b a a b a $ a   3\n",
        "```"
      ]
    },
    {
      "cell_type": "markdown",
      "metadata": {
        "id": "VPUTzzzH6fy6"
      },
      "source": [
        "Remember: even though we just drew the entire matrix, our index so far contains just F, L\n",
        "and rank.\n",
        "Now we must find all rows beginning with the next-longest proper suffix of P: ba. Observe the\n",
        "shaded characters in the L above. We see two bs, indicating there are two instances where a is\n",
        "preceeded by b. Also, the LF Mapping and rank array tell us which rows have ba as a prefix: the\n",
        "rows beginning with b0 and b1; i.e. the first two rows in the \\b section\"."
      ]
    },
    {
      "cell_type": "markdown",
      "metadata": {
        "id": "_Exv-DGv6fy6"
      },
      "source": [
        "```\n",
        "F           L  rank\n",
        "$ a b a a b a   0\n",
        "a $ a b a a b   0 \n",
        "a a b a $ a b   1 \n",
        "a b a $ a b a   1 \n",
        "a b a a b a $   0 \n",
        "b a $ a b a a   2 *****\n",
        "b a a b a $ a   3 *****\n",
        "```\n",
        "\n",
        "Now we find rows beginning with the final suffix, aba. Again we look at the shaded characters\n",
        "in the last column. We see that the occurrences of ba are preceded by a2 and a3, giving us the\n",
        "range of rows prefixed by P:\n",
        "\n",
        "```\n",
        "F           L  rank\n",
        "$ a b a a b a   0\n",
        "a $ a b a a b   0 \n",
        "a a b a $ a b   1 \n",
        "a b a $ a b a   1 *****\n",
        "a b a a b a $   0 *****\n",
        "b a $ a b a a   2 \n",
        "b a a b a $ a   3\n",
        "```\n",
        "\n",
        "his is called backwards matching. In short, we apply the LF Mapping repeatedly to find the\n",
        "range of rows prefixed by successively longer proper suffixes of P until the range becomes empty,\n",
        "in which case P does not occur in T, or until we run out of suffixes. If we run out of suffixes, the\n",
        "size of the range equals the number of times P occurs in T.\n",
        "\n",
        "#### Here is a Python implementation:"
      ]
    },
    {
      "cell_type": "code",
      "execution_count": null,
      "metadata": {
        "id": "2m6AUKvU6fy7"
      },
      "outputs": [],
      "source": [
        "def countMatches(bw, p):\n",
        "    \"\"\" Given BWT(T) and a pattern string p, return the number of times\n",
        "    p occurs in T. \"\"\"\n",
        "    ranks, tots = rankBwt(bw)\n",
        "    first = firstCol(tots)\n",
        "    l, r = first[p[-1]]\n",
        "    i = len(p)-2\n",
        "    while i >= 0 and r > l:\n",
        "        c = p[i]\n",
        "        # scan from left, looking for occurrences of c\n",
        "        j = l\n",
        "        while j < r:\n",
        "            if bw[j] == c:\n",
        "                l = first[c][0] + ranks[j]\n",
        "                break\n",
        "            j += 1\n",
        "        if j == r:\n",
        "            l = r\n",
        "            break # no occurrences -> no match\n",
        "        r -= 1\n",
        "        while bw[r] != c:\n",
        "            r -= 1\n",
        "        r = first[c][0] + ranks[r] + 1\n",
        "        i -= 1\n",
        "    return r - l"
      ]
    },
    {
      "cell_type": "code",
      "execution_count": null,
      "metadata": {
        "id": "q9Y7UZpI6fy7",
        "outputId": "e1b0fcbe-383e-4afc-d8e2-b1846b16cf1f"
      },
      "outputs": [
        {
          "data": {
            "text/plain": [
              "'ATG$AATTACTTGTAATCGCCGGGGAGCAAAAAACTTTA'"
            ]
          },
          "execution_count": 26,
          "metadata": {},
          "output_type": "execute_result"
        }
      ],
      "source": [
        "bw = bwt(\"AAATTTTCCCGGGAAAGGGCCTATATAGGATATACATA\")\n",
        "bw"
      ]
    },
    {
      "cell_type": "code",
      "execution_count": null,
      "metadata": {
        "id": "q6IqjCe46fy7",
        "outputId": "6483f015-d6d0-4317-e26e-0d288c9e3d6d"
      },
      "outputs": [
        {
          "data": {
            "text/plain": [
              "1"
            ]
          },
          "execution_count": 31,
          "metadata": {},
          "output_type": "execute_result"
        }
      ],
      "source": [
        "countMatches(bw, \"TATATA\")"
      ]
    }
  ],
  "metadata": {
    "interpreter": {
      "hash": "7dae6437c12b1d87f00e0e10a4bd22be66a3b8ec05fb1161d95372f28c39fa9e"
    },
    "kernelspec": {
      "display_name": "Python 3.8.8 64-bit ('base': conda)",
      "language": "python",
      "name": "python3"
    },
    "language_info": {
      "codemirror_mode": {
        "name": "ipython",
        "version": 3
      },
      "file_extension": ".py",
      "mimetype": "text/x-python",
      "name": "python",
      "nbconvert_exporter": "python",
      "pygments_lexer": "ipython3",
      "version": "3.8.8"
    },
    "orig_nbformat": 4,
    "colab": {
      "name": "BWT Algorithm and FM Index.ipynb",
      "provenance": [],
      "include_colab_link": true
    }
  },
  "nbformat": 4,
  "nbformat_minor": 0
}